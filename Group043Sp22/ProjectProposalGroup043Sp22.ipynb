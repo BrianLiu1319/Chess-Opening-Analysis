{
 "cells": [
  {
   "cell_type": "markdown",
   "metadata": {},
   "source": [
    "# COGS 108 - Final Project Proposal"
   ]
  },
  {
   "cell_type": "markdown",
   "metadata": {},
   "source": [
    "# Names\n",
    "\n",
    "- Brian Liu\n",
    "- Audrey Li\n",
    "- Jessica Mata\n",
    "- David Ngo\n",
    "- John Paul Onza"
   ]
  },
  {
   "cell_type": "markdown",
   "metadata": {
    "jupyter": {
     "source_hidden": true
    },
    "tags": []
   },
   "source": [
    "# Research Question"
   ]
  },
  {
   "cell_type": "markdown",
   "metadata": {
    "jp-MarkdownHeadingCollapsed": true,
    "tags": []
   },
   "source": [
    "For a given elo in chess, is there an optimal opening that would lead to a higher win percentage?"
   ]
  },
  {
   "cell_type": "markdown",
   "metadata": {},
   "source": [
    "## Background and Prior Work"
   ]
  },
  {
   "cell_type": "markdown",
   "metadata": {
    "jp-MarkdownHeadingCollapsed": true,
    "tags": []
   },
   "source": [
    "**Rules**\n",
    "\n",
    "\n",
    "There are three outcomes to a chess game. Win, loss, or draw. In most competitive chess settings, players additionally use a chess timer \n",
    "(chess clock) to keep track of the players turn as well as to set an agreed time limit on the total game.\n",
    "\n",
    "Thus, players can win by either checkmate (forcing the opponent’s king to have no legal moves), winning on time (through the opponent’s time expiring [running out]), winning through resignation (forfeit). \n",
    "\n",
    "A draw occurs when one side reaches a stalemate (no legal king moves but the king is not in danger (check)). A draw can also occur through having insignificant material. This clause occurs when time has expired for the player but the opposing side does not have significant (enough material) to checkmate.\n",
    "\n",
    "\n",
    "\n",
    "\n",
    "**Algebraic Notation**\n",
    "\n",
    "\n",
    "The chess board is divided into 64 squares with numbers and letters to categorize position. This naming system is called algebraic notation.Vertical squares together are called columns/file (green). Horizontal squares together are called rows (red).\n",
    "\n",
    "To move a piece in algebraic notation:\n",
    "1) It first starts with a move number to indicate what move in the game it is\n",
    "2) A letter (capital letter to indicate a major/minor piece, lowercase letter to indicate a pawn) to indicate which piece \n",
    "3) A lower case letter to indicate where on the chess board the piece will land on\n",
    " and which column it is in, and lastly a number to dictate which square it will land on. \n",
    "\n",
    "\n",
    "In short, we name the piece with the uppercase letter (lower case if it is a pawn) and the coordinate of where it will land. \n",
    "\n",
    "Ex. King’s pawn to the fourth rank will be categorized in algebraic notation as\n",
    "    1. e4\n",
    "Ex 2.  Moving the Queen’s knight to the 3rd rank in the C file will be:\n",
    "    1. Nc3\n",
    "\n",
    "\n",
    "**Openings**:\n",
    "\n",
    "The three phases of a chess game is opening, middle game, and endgame. Like the name states, the opening are a set of sequences ofg moves to start a chess game. Just like how billiards have a break to start the game of pool, so too does chess. Each opening has a different name, different starting moves, and different goals. For example 1. e4 is more tactical while 1. d4 is more positional. \n",
    "\n",
    "\n",
    "**Prior Work**:\n",
    "\n",
    "\n",
    "Prior work in data science on chess is mainly used to explore and pinpoint a specific chess user’s weakness. This can be seen in the for-profit chess website, Aimchess.com. They use the requested users data by collecting the raw data from a chess server, cleaning up the data through automatic scripts, processing and cleaning up, and then extrapolating the data to the user. \n",
    "\n",
    "Some questions that aimchess does really well are: comparing win and loss ratio against different opponent rating, measuring how many wins and losses at a specific time of day, strongest and weakest opening, and which phase of chess is the user suffering most losses from.\n",
    "\n",
    "\n"
   ]
  },
  {
   "cell_type": "markdown",
   "metadata": {},
   "source": [
    "# Hypothesis\n"
   ]
  },
  {
   "cell_type": "markdown",
   "metadata": {},
   "source": [
    "We know that openings play a big role in chess, but we suspect that there may be preferable openings to play at a certain elo. This is because at different elos, you may be able to outmatch your opponent with a riskier opening if your elo is greater, but against a tougher opponent you may be more resigned to use a safer less riskier opening, as the higher elo player is usually more experienced. We predict that at lower elos, it is more advantageous to use riskier openings such as gambits where as in higher elos it is more advantageous to use safer openings such as the king's pawn."
   ]
  },
  {
   "cell_type": "markdown",
   "metadata": {},
   "source": [
    "# Data"
   ]
  },
  {
   "cell_type": "markdown",
   "metadata": {},
   "source": [
    "\n",
    "**Our Ideal Dataset** :\n",
    "- Variables\n",
    "    - Elo\n",
    "    - Match Result\n",
    "    - Movesets\n",
    "    - Would be nice to have openings\n",
    "    \n",
    "- Observation amount \n",
    "    - As much as possible\n",
    "    \n",
    "- How would these data be collected?\n",
    "    - through public API\n",
    "    - publicly given chess datasets\n",
    "        - https://www.kaggle.com/datasets/datasnaek/chess\n",
    "        - https://www.kaggle.com/datasets/adityajha1504/chesscom-user-games-60000-games\n",
    "        \n",
    "- How would these data be stored?\n",
    "    - through CSV format\n",
    "    - tidy, rectangular data\n",
    "        "
   ]
  },
  {
   "cell_type": "markdown",
   "metadata": {},
   "source": [
    "# Ethics & Privacy"
   ]
  },
  {
   "cell_type": "markdown",
   "metadata": {},
   "source": [
    "Our team is aware of the potential unethical usages of data for this project, and will ensure that the players’ privacy in the datasets are not at risk. We will obtain our chess game dataset off Kaggle, which is available for the public to download. The data was collected using Lichess API, which collects user game history while protecting the personal data of the users. Because of the interface through which the data was collected, we can safely say that there is little chance for bias. A potential exception to this could be the inclusion of data for unfair, cheated matches played with the purpose of boosting ELO rating. To keep anonymization and remove linkage to a specific user, we will be cleaning the username ID’s for both the white and black players, start time, end time, and time increments for all chess matches within the dataset. After cleaning, the remaining data that we will use for our project will not put any user’s privacy at risk. We promise to abide by all Kaggle copyright rules and will not exploit the content for any purpose without consent from the content owner. For other data we might use in the future, we will continue to abide by the principles of data privacy. "
   ]
  },
  {
   "cell_type": "markdown",
   "metadata": {},
   "source": [
    "# Team Expectations "
   ]
  },
  {
   "cell_type": "markdown",
   "metadata": {},
   "source": [
    "* *Proper Communication*\n",
    "* *Pull your weight ( complete assignments agreed you do on time )*\n",
    "* *Be Active*\n",
    "* *Be able to take criticism*"
   ]
  },
  {
   "cell_type": "markdown",
   "metadata": {},
   "source": [
    "# Project Timeline Proposal"
   ]
  },
  {
   "cell_type": "markdown",
   "metadata": {},
   "source": [
    "| Meeting Date  | Meeting Time| Completed Before Meeting  | Discuss at Meeting |\n",
    "|---|---|---|---|\n",
    "| 4/22  |  8 PM | Datasets we want to use and questions| Choose our question and dataset | \n",
    "| 4/29  |  8 PM | nothing | determine what data we need and how we are going to get it | \n",
    "| 5/6  |  8 PM |  data wrangling / background | Determine if we cleaned data well and if we can proceed to data analysis | \n",
    "| 5/20  | 8 PM  | Do data analysis | discuss if analysis is done well and if we need to do any further analysis   |\n",
    "| 5/27  | 8 PM  | Finish up project | Discuss final project |\n",
    "| 6/05  | 8 PM  | nothing | discuss if we can do anything else|\n"
   ]
  }
 ],
 "metadata": {
  "kernelspec": {
   "display_name": "Python 3 (ipykernel)",
   "language": "python",
   "name": "python3"
  },
  "language_info": {
   "codemirror_mode": {
    "name": "ipython",
    "version": 3
   },
   "file_extension": ".py",
   "mimetype": "text/x-python",
   "name": "python",
   "nbconvert_exporter": "python",
   "pygments_lexer": "ipython3",
   "version": "3.8.10"
  }
 },
 "nbformat": 4,
 "nbformat_minor": 4
}
