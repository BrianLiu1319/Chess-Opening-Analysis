{
 "cells": [
  {
   "cell_type": "markdown",
   "metadata": {},
   "source": [
    "# COGS 108 - Data Checkpoint"
   ]
  },
  {
   "cell_type": "markdown",
   "metadata": {},
   "source": [
    "# Names\n",
    "\n",
    "- Brian Liu\n",
    "- Audrey Li\n",
    "- Jessica Mata\n",
    "- David Ngo\n",
    "- John Paul Onza"
   ]
  },
  {
   "cell_type": "markdown",
   "metadata": {},
   "source": [
    "<a id='research_question'></a>\n",
    "# Research Question"
   ]
  },
  {
   "cell_type": "markdown",
   "metadata": {},
   "source": [
    "For a given elo in chess, is there an optimal opening that would lead to a higher win percentage?"
   ]
  },
  {
   "cell_type": "markdown",
   "metadata": {
    "tags": []
   },
   "source": [
    "# Dataset(s)"
   ]
  },
  {
   "cell_type": "markdown",
   "metadata": {},
   "source": [
    "- Dataset Name: Chess Game Dataset (Lichess)\n",
    "- Link to the dataset: https://www.kaggle.com/datasets/datasnaek/chess\n",
    "- Number of observations: Approximately 20,000 observations\n",
    "\n",
    "This data set are sets of 20,000 games collected from a chess website, Lichess.org. The following dataset contains 16 features such as moveset and the opening ecos\n",
    "which we need to replace. We are also given the ratings and this will allow us to explore what optimat openings we should use according to ratings."
   ]
  },
  {
   "cell_type": "markdown",
   "metadata": {},
   "source": [
    "# Setup"
   ]
  },
  {
   "cell_type": "code",
   "execution_count": 195,
   "metadata": {},
   "outputs": [],
   "source": [
    "# import libraries\n",
    "import pandas as pd\n",
    "import requests\n",
    "from bs4 import BeautifulSoup\n",
    "import re\n",
    "import collections\n",
    "import seaborn as sns\n",
    "import numpy as np\n",
    "import matplotlib.pyplot as plt"
   ]
  },
  {
   "cell_type": "markdown",
   "metadata": {
    "tags": []
   },
   "source": [
    "# Data Cleaning"
   ]
  },
  {
   "cell_type": "markdown",
   "metadata": {},
   "source": [
    "The original dataset wasn't that bad and only needed a little of cleaning. We first removed the columns that we didn't need and the identification to maintain\n",
    "ethicacy. The biggest problem was the opening_eco and opening variations, because there are multiple types of variation that you can do. We first wanted to \n",
    "scrape a website containing the ecos and store it into a dictionary with a standardized format where all variations of an opening will effectively be the same one.\n",
    "Next we replaced the opening_ecos and removed the opening_name because they contained variations, which we didn't want. We then added a new column for rating difference.\n"
   ]
  },
  {
   "cell_type": "code",
   "execution_count": 2,
   "metadata": {},
   "outputs": [],
   "source": [
    "# open data set\n",
    "games = pd.read_csv('games.csv')"
   ]
  },
  {
   "cell_type": "code",
   "execution_count": 3,
   "metadata": {},
   "outputs": [
    {
     "data": {
      "text/html": [
       "<div>\n",
       "<style scoped>\n",
       "    .dataframe tbody tr th:only-of-type {\n",
       "        vertical-align: middle;\n",
       "    }\n",
       "\n",
       "    .dataframe tbody tr th {\n",
       "        vertical-align: top;\n",
       "    }\n",
       "\n",
       "    .dataframe thead th {\n",
       "        text-align: right;\n",
       "    }\n",
       "</style>\n",
       "<table border=\"1\" class=\"dataframe\">\n",
       "  <thead>\n",
       "    <tr style=\"text-align: right;\">\n",
       "      <th></th>\n",
       "      <th>id</th>\n",
       "      <th>rated</th>\n",
       "      <th>created_at</th>\n",
       "      <th>last_move_at</th>\n",
       "      <th>turns</th>\n",
       "      <th>victory_status</th>\n",
       "      <th>winner</th>\n",
       "      <th>increment_code</th>\n",
       "      <th>white_id</th>\n",
       "      <th>white_rating</th>\n",
       "      <th>black_id</th>\n",
       "      <th>black_rating</th>\n",
       "      <th>moves</th>\n",
       "      <th>opening_eco</th>\n",
       "      <th>opening_name</th>\n",
       "      <th>opening_ply</th>\n",
       "    </tr>\n",
       "  </thead>\n",
       "  <tbody>\n",
       "    <tr>\n",
       "      <th>0</th>\n",
       "      <td>TZJHLljE</td>\n",
       "      <td>False</td>\n",
       "      <td>1.504210e+12</td>\n",
       "      <td>1.504210e+12</td>\n",
       "      <td>13</td>\n",
       "      <td>outoftime</td>\n",
       "      <td>white</td>\n",
       "      <td>15+2</td>\n",
       "      <td>bourgris</td>\n",
       "      <td>1500</td>\n",
       "      <td>a-00</td>\n",
       "      <td>1191</td>\n",
       "      <td>d4 d5 c4 c6 cxd5 e6 dxe6 fxe6 Nf3 Bb4+ Nc3 Ba5...</td>\n",
       "      <td>D10</td>\n",
       "      <td>Slav Defense: Exchange Variation</td>\n",
       "      <td>5</td>\n",
       "    </tr>\n",
       "    <tr>\n",
       "      <th>1</th>\n",
       "      <td>l1NXvwaE</td>\n",
       "      <td>True</td>\n",
       "      <td>1.504130e+12</td>\n",
       "      <td>1.504130e+12</td>\n",
       "      <td>16</td>\n",
       "      <td>resign</td>\n",
       "      <td>black</td>\n",
       "      <td>5+10</td>\n",
       "      <td>a-00</td>\n",
       "      <td>1322</td>\n",
       "      <td>skinnerua</td>\n",
       "      <td>1261</td>\n",
       "      <td>d4 Nc6 e4 e5 f4 f6 dxe5 fxe5 fxe5 Nxe5 Qd4 Nc6...</td>\n",
       "      <td>B00</td>\n",
       "      <td>Nimzowitsch Defense: Kennedy Variation</td>\n",
       "      <td>4</td>\n",
       "    </tr>\n",
       "    <tr>\n",
       "      <th>2</th>\n",
       "      <td>mIICvQHh</td>\n",
       "      <td>True</td>\n",
       "      <td>1.504130e+12</td>\n",
       "      <td>1.504130e+12</td>\n",
       "      <td>61</td>\n",
       "      <td>mate</td>\n",
       "      <td>white</td>\n",
       "      <td>5+10</td>\n",
       "      <td>ischia</td>\n",
       "      <td>1496</td>\n",
       "      <td>a-00</td>\n",
       "      <td>1500</td>\n",
       "      <td>e4 e5 d3 d6 Be3 c6 Be2 b5 Nd2 a5 a4 c5 axb5 Nc...</td>\n",
       "      <td>C20</td>\n",
       "      <td>King's Pawn Game: Leonardis Variation</td>\n",
       "      <td>3</td>\n",
       "    </tr>\n",
       "    <tr>\n",
       "      <th>3</th>\n",
       "      <td>kWKvrqYL</td>\n",
       "      <td>True</td>\n",
       "      <td>1.504110e+12</td>\n",
       "      <td>1.504110e+12</td>\n",
       "      <td>61</td>\n",
       "      <td>mate</td>\n",
       "      <td>white</td>\n",
       "      <td>20+0</td>\n",
       "      <td>daniamurashov</td>\n",
       "      <td>1439</td>\n",
       "      <td>adivanov2009</td>\n",
       "      <td>1454</td>\n",
       "      <td>d4 d5 Nf3 Bf5 Nc3 Nf6 Bf4 Ng4 e3 Nc6 Be2 Qd7 O...</td>\n",
       "      <td>D02</td>\n",
       "      <td>Queen's Pawn Game: Zukertort Variation</td>\n",
       "      <td>3</td>\n",
       "    </tr>\n",
       "    <tr>\n",
       "      <th>4</th>\n",
       "      <td>9tXo1AUZ</td>\n",
       "      <td>True</td>\n",
       "      <td>1.504030e+12</td>\n",
       "      <td>1.504030e+12</td>\n",
       "      <td>95</td>\n",
       "      <td>mate</td>\n",
       "      <td>white</td>\n",
       "      <td>30+3</td>\n",
       "      <td>nik221107</td>\n",
       "      <td>1523</td>\n",
       "      <td>adivanov2009</td>\n",
       "      <td>1469</td>\n",
       "      <td>e4 e5 Nf3 d6 d4 Nc6 d5 Nb4 a3 Na6 Nc3 Be7 b4 N...</td>\n",
       "      <td>C41</td>\n",
       "      <td>Philidor Defense</td>\n",
       "      <td>5</td>\n",
       "    </tr>\n",
       "  </tbody>\n",
       "</table>\n",
       "</div>"
      ],
      "text/plain": [
       "         id  rated    created_at  last_move_at  turns victory_status winner  \\\n",
       "0  TZJHLljE  False  1.504210e+12  1.504210e+12     13      outoftime  white   \n",
       "1  l1NXvwaE   True  1.504130e+12  1.504130e+12     16         resign  black   \n",
       "2  mIICvQHh   True  1.504130e+12  1.504130e+12     61           mate  white   \n",
       "3  kWKvrqYL   True  1.504110e+12  1.504110e+12     61           mate  white   \n",
       "4  9tXo1AUZ   True  1.504030e+12  1.504030e+12     95           mate  white   \n",
       "\n",
       "  increment_code       white_id  white_rating      black_id  black_rating  \\\n",
       "0           15+2       bourgris          1500          a-00          1191   \n",
       "1           5+10           a-00          1322     skinnerua          1261   \n",
       "2           5+10         ischia          1496          a-00          1500   \n",
       "3           20+0  daniamurashov          1439  adivanov2009          1454   \n",
       "4           30+3      nik221107          1523  adivanov2009          1469   \n",
       "\n",
       "                                               moves opening_eco  \\\n",
       "0  d4 d5 c4 c6 cxd5 e6 dxe6 fxe6 Nf3 Bb4+ Nc3 Ba5...         D10   \n",
       "1  d4 Nc6 e4 e5 f4 f6 dxe5 fxe5 fxe5 Nxe5 Qd4 Nc6...         B00   \n",
       "2  e4 e5 d3 d6 Be3 c6 Be2 b5 Nd2 a5 a4 c5 axb5 Nc...         C20   \n",
       "3  d4 d5 Nf3 Bf5 Nc3 Nf6 Bf4 Ng4 e3 Nc6 Be2 Qd7 O...         D02   \n",
       "4  e4 e5 Nf3 d6 d4 Nc6 d5 Nb4 a3 Na6 Nc3 Be7 b4 N...         C41   \n",
       "\n",
       "                             opening_name  opening_ply  \n",
       "0        Slav Defense: Exchange Variation            5  \n",
       "1  Nimzowitsch Defense: Kennedy Variation            4  \n",
       "2   King's Pawn Game: Leonardis Variation            3  \n",
       "3  Queen's Pawn Game: Zukertort Variation            3  \n",
       "4                        Philidor Defense            5  "
      ]
     },
     "execution_count": 3,
     "metadata": {},
     "output_type": "execute_result"
    }
   ],
   "source": [
    "games.head()"
   ]
  },
  {
   "cell_type": "code",
   "execution_count": 286,
   "metadata": {},
   "outputs": [
    {
     "name": "stdout",
     "output_type": "stream",
     "text": [
      "no NaN\n"
     ]
    }
   ],
   "source": [
    "# check if data is complete\n",
    "\n",
    "if games.isnull().sum().sum() == 0:\n",
    "    print('no NaN')\n",
    "else:\n",
    "    print('Nan detected')"
   ]
  },
  {
   "cell_type": "code",
   "execution_count": 287,
   "metadata": {},
   "outputs": [
    {
     "name": "stdout",
     "output_type": "stream",
     "text": [
      "['winner', 'white_rating', 'black_rating', 'opening', 'rating diff']\n",
      "5\n"
     ]
    },
    {
     "ename": "KeyError",
     "evalue": "\"['opening_eco'] not in index\"",
     "output_type": "error",
     "traceback": [
      "\u001b[0;31m---------------------------------------------------------------------------\u001b[0m",
      "\u001b[0;31mKeyError\u001b[0m                                  Traceback (most recent call last)",
      "Input \u001b[0;32mIn [287]\u001b[0m, in \u001b[0;36m<cell line: 17>\u001b[0;34m()\u001b[0m\n\u001b[1;32m     11\u001b[0m wanted_cols \u001b[38;5;241m=\u001b[39m [\u001b[38;5;124m'\u001b[39m\u001b[38;5;124mwinner\u001b[39m\u001b[38;5;124m'\u001b[39m,\n\u001b[1;32m     12\u001b[0m                \u001b[38;5;124m'\u001b[39m\u001b[38;5;124mwhite_rating\u001b[39m\u001b[38;5;124m'\u001b[39m,\n\u001b[1;32m     13\u001b[0m                \u001b[38;5;124m'\u001b[39m\u001b[38;5;124mblack_rating\u001b[39m\u001b[38;5;124m'\u001b[39m,\n\u001b[1;32m     14\u001b[0m                \u001b[38;5;124m'\u001b[39m\u001b[38;5;124mopening_eco\u001b[39m\u001b[38;5;124m'\u001b[39m\n\u001b[1;32m     15\u001b[0m               ]\n\u001b[1;32m     16\u001b[0m \u001b[38;5;66;03m# we only want the winners, ratings, and openings\u001b[39;00m\n\u001b[0;32m---> 17\u001b[0m games \u001b[38;5;241m=\u001b[39m \u001b[43mgames\u001b[49m\u001b[43m[\u001b[49m\u001b[43mwanted_cols\u001b[49m\u001b[43m]\u001b[49m\n",
      "File \u001b[0;32m~/.local/lib/python3.8/site-packages/pandas/core/frame.py:3511\u001b[0m, in \u001b[0;36mDataFrame.__getitem__\u001b[0;34m(self, key)\u001b[0m\n\u001b[1;32m   3509\u001b[0m     \u001b[38;5;28;01mif\u001b[39;00m is_iterator(key):\n\u001b[1;32m   3510\u001b[0m         key \u001b[38;5;241m=\u001b[39m \u001b[38;5;28mlist\u001b[39m(key)\n\u001b[0;32m-> 3511\u001b[0m     indexer \u001b[38;5;241m=\u001b[39m \u001b[38;5;28;43mself\u001b[39;49m\u001b[38;5;241;43m.\u001b[39;49m\u001b[43mcolumns\u001b[49m\u001b[38;5;241;43m.\u001b[39;49m\u001b[43m_get_indexer_strict\u001b[49m\u001b[43m(\u001b[49m\u001b[43mkey\u001b[49m\u001b[43m,\u001b[49m\u001b[43m \u001b[49m\u001b[38;5;124;43m\"\u001b[39;49m\u001b[38;5;124;43mcolumns\u001b[39;49m\u001b[38;5;124;43m\"\u001b[39;49m\u001b[43m)\u001b[49m[\u001b[38;5;241m1\u001b[39m]\n\u001b[1;32m   3513\u001b[0m \u001b[38;5;66;03m# take() does not accept boolean indexers\u001b[39;00m\n\u001b[1;32m   3514\u001b[0m \u001b[38;5;28;01mif\u001b[39;00m \u001b[38;5;28mgetattr\u001b[39m(indexer, \u001b[38;5;124m\"\u001b[39m\u001b[38;5;124mdtype\u001b[39m\u001b[38;5;124m\"\u001b[39m, \u001b[38;5;28;01mNone\u001b[39;00m) \u001b[38;5;241m==\u001b[39m \u001b[38;5;28mbool\u001b[39m:\n",
      "File \u001b[0;32m~/.local/lib/python3.8/site-packages/pandas/core/indexes/base.py:5782\u001b[0m, in \u001b[0;36mIndex._get_indexer_strict\u001b[0;34m(self, key, axis_name)\u001b[0m\n\u001b[1;32m   5779\u001b[0m \u001b[38;5;28;01melse\u001b[39;00m:\n\u001b[1;32m   5780\u001b[0m     keyarr, indexer, new_indexer \u001b[38;5;241m=\u001b[39m \u001b[38;5;28mself\u001b[39m\u001b[38;5;241m.\u001b[39m_reindex_non_unique(keyarr)\n\u001b[0;32m-> 5782\u001b[0m \u001b[38;5;28;43mself\u001b[39;49m\u001b[38;5;241;43m.\u001b[39;49m\u001b[43m_raise_if_missing\u001b[49m\u001b[43m(\u001b[49m\u001b[43mkeyarr\u001b[49m\u001b[43m,\u001b[49m\u001b[43m \u001b[49m\u001b[43mindexer\u001b[49m\u001b[43m,\u001b[49m\u001b[43m \u001b[49m\u001b[43maxis_name\u001b[49m\u001b[43m)\u001b[49m\n\u001b[1;32m   5784\u001b[0m keyarr \u001b[38;5;241m=\u001b[39m \u001b[38;5;28mself\u001b[39m\u001b[38;5;241m.\u001b[39mtake(indexer)\n\u001b[1;32m   5785\u001b[0m \u001b[38;5;28;01mif\u001b[39;00m \u001b[38;5;28misinstance\u001b[39m(key, Index):\n\u001b[1;32m   5786\u001b[0m     \u001b[38;5;66;03m# GH 42790 - Preserve name from an Index\u001b[39;00m\n",
      "File \u001b[0;32m~/.local/lib/python3.8/site-packages/pandas/core/indexes/base.py:5845\u001b[0m, in \u001b[0;36mIndex._raise_if_missing\u001b[0;34m(self, key, indexer, axis_name)\u001b[0m\n\u001b[1;32m   5842\u001b[0m     \u001b[38;5;28;01mraise\u001b[39;00m \u001b[38;5;167;01mKeyError\u001b[39;00m(\u001b[38;5;124mf\u001b[39m\u001b[38;5;124m\"\u001b[39m\u001b[38;5;124mNone of [\u001b[39m\u001b[38;5;132;01m{\u001b[39;00mkey\u001b[38;5;132;01m}\u001b[39;00m\u001b[38;5;124m] are in the [\u001b[39m\u001b[38;5;132;01m{\u001b[39;00maxis_name\u001b[38;5;132;01m}\u001b[39;00m\u001b[38;5;124m]\u001b[39m\u001b[38;5;124m\"\u001b[39m)\n\u001b[1;32m   5844\u001b[0m not_found \u001b[38;5;241m=\u001b[39m \u001b[38;5;28mlist\u001b[39m(ensure_index(key)[missing_mask\u001b[38;5;241m.\u001b[39mnonzero()[\u001b[38;5;241m0\u001b[39m]]\u001b[38;5;241m.\u001b[39munique())\n\u001b[0;32m-> 5845\u001b[0m \u001b[38;5;28;01mraise\u001b[39;00m \u001b[38;5;167;01mKeyError\u001b[39;00m(\u001b[38;5;124mf\u001b[39m\u001b[38;5;124m\"\u001b[39m\u001b[38;5;132;01m{\u001b[39;00mnot_found\u001b[38;5;132;01m}\u001b[39;00m\u001b[38;5;124m not in index\u001b[39m\u001b[38;5;124m\"\u001b[39m)\n",
      "\u001b[0;31mKeyError\u001b[0m: \"['opening_eco'] not in index\""
     ]
    }
   ],
   "source": [
    "# remove unwanted columns\n",
    "\n",
    "games_cols = []\n",
    "\n",
    "for col in games.columns:\n",
    "    games_cols.append(col)\n",
    "    \n",
    "print(games_cols)\n",
    "print(len(games_cols))\n",
    "    \n",
    "wanted_cols = ['winner',\n",
    "               'white_rating',\n",
    "               'black_rating',\n",
    "               'opening_eco'\n",
    "              ]\n",
    "# we only want the winners, ratings, and openings\n",
    "games = games[wanted_cols]"
   ]
  },
  {
   "cell_type": "code",
   "execution_count": 288,
   "metadata": {},
   "outputs": [
    {
     "data": {
      "text/html": [
       "<div>\n",
       "<style scoped>\n",
       "    .dataframe tbody tr th:only-of-type {\n",
       "        vertical-align: middle;\n",
       "    }\n",
       "\n",
       "    .dataframe tbody tr th {\n",
       "        vertical-align: top;\n",
       "    }\n",
       "\n",
       "    .dataframe thead th {\n",
       "        text-align: right;\n",
       "    }\n",
       "</style>\n",
       "<table border=\"1\" class=\"dataframe\">\n",
       "  <thead>\n",
       "    <tr style=\"text-align: right;\">\n",
       "      <th></th>\n",
       "      <th>winner</th>\n",
       "      <th>white_rating</th>\n",
       "      <th>black_rating</th>\n",
       "      <th>opening</th>\n",
       "      <th>rating diff</th>\n",
       "    </tr>\n",
       "  </thead>\n",
       "  <tbody>\n",
       "    <tr>\n",
       "      <th>0</th>\n",
       "      <td>white</td>\n",
       "      <td>1500</td>\n",
       "      <td>1200</td>\n",
       "      <td>Queen's Gambit Declined Slav defence</td>\n",
       "      <td>300</td>\n",
       "    </tr>\n",
       "    <tr>\n",
       "      <th>1</th>\n",
       "      <td>black</td>\n",
       "      <td>1300</td>\n",
       "      <td>1300</td>\n",
       "      <td>King's pawn opening</td>\n",
       "      <td>0</td>\n",
       "    </tr>\n",
       "    <tr>\n",
       "      <th>2</th>\n",
       "      <td>white</td>\n",
       "      <td>1500</td>\n",
       "      <td>1500</td>\n",
       "      <td>King's pawn game</td>\n",
       "      <td>0</td>\n",
       "    </tr>\n",
       "    <tr>\n",
       "      <th>3</th>\n",
       "      <td>white</td>\n",
       "      <td>1400</td>\n",
       "      <td>1500</td>\n",
       "      <td>Queen's pawn game</td>\n",
       "      <td>100</td>\n",
       "    </tr>\n",
       "    <tr>\n",
       "      <th>4</th>\n",
       "      <td>white</td>\n",
       "      <td>1500</td>\n",
       "      <td>1500</td>\n",
       "      <td>Philidor's defence</td>\n",
       "      <td>0</td>\n",
       "    </tr>\n",
       "  </tbody>\n",
       "</table>\n",
       "</div>"
      ],
      "text/plain": [
       "  winner  white_rating  black_rating                               opening  \\\n",
       "0  white          1500          1200  Queen's Gambit Declined Slav defence   \n",
       "1  black          1300          1300                   King's pawn opening   \n",
       "2  white          1500          1500                      King's pawn game   \n",
       "3  white          1400          1500                     Queen's pawn game   \n",
       "4  white          1500          1500                    Philidor's defence   \n",
       "\n",
       "   rating diff  \n",
       "0          300  \n",
       "1            0  \n",
       "2            0  \n",
       "3          100  \n",
       "4            0  "
      ]
     },
     "execution_count": 288,
     "metadata": {},
     "output_type": "execute_result"
    }
   ],
   "source": [
    "games.head()"
   ]
  },
  {
   "cell_type": "code",
   "execution_count": null,
   "metadata": {},
   "outputs": [],
   "source": [
    "## Scrape openings from https://www.365chess.com/eco.php so we can edit it onto our data set and get desired openings\n",
    "\n",
    "# get ecos\n",
    "eco_url = 'https://www.365chess.com/eco.php'\n",
    "page = requests.get(eco_url)\n",
    "\n",
    "# parse eco page\n",
    "soup = BeautifulSoup(page.content, \"html.parser\")\n",
    "\n",
    "# scrape ecos\n",
    "x = soup.find_all(class_ = \"opname\")\n",
    "\n",
    "\n",
    "# get raw ecos html\n",
    "opnames = []\n",
    "for y in x:\n",
    "    opnames.append(y.text)\n",
    "    \n",
    "\n",
    "# parse raw ecos html into dict\n",
    "opening_dict = {}\n",
    "\n",
    "for i in opnames:\n",
    "    split = i.split()\n",
    "    if split[0] not in opening_dict:\n",
    "        opening_dict[split[0]] = ' '.join(split[1:])\n",
    "\n",
    "# only entry that's messed up, just manually fix it\n",
    "opening_dict['D50-D69'] = \"Queen's Gambit Declined\""
   ]
  },
  {
   "cell_type": "code",
   "execution_count": 290,
   "metadata": {},
   "outputs": [],
   "source": [
    "## clean dict of ecos and subsets of major openings \n",
    "\n",
    "# get range of '-'\n",
    "def get_range(a):\n",
    "    num_range = []\n",
    "    for x in a:\n",
    "        num_range.append(int(re.sub('\\D', '', x)))\n",
    "    return num_range\n",
    "        \n",
    "\n",
    "# create new entries based on major openings and delete old ones\n",
    "numbers = []\n",
    "new_dict = opening_dict.copy()\n",
    "\n",
    "for key in opening_dict:\n",
    "    if '-' in key:\n",
    "        numbers = (key.split('-'))\n",
    "        # num_range = 69\n",
    "        num_range = get_range(numbers)\n",
    "        # num_ranges = 10 - 00\n",
    "        num_ranges = num_range[1] - num_range[0] + 1\n",
    "        alpha_key = numbers[0][0]\n",
    "        for x in range(num_ranges):\n",
    "            num_str = str((num_range[0] + x))\n",
    "            if len(num_str) < 2:\n",
    "                num_str = alpha_key + '0' + num_str\n",
    "            else:\n",
    "                num_str = alpha_key + num_str\n",
    "            new_dict[num_str] = opening_dict[key]\n",
    "        del new_dict[key]\n",
    "    \n",
    "\n",
    "\n",
    "op_eco_dict = collections.OrderedDict(sorted(new_dict.items()))"
   ]
  },
  {
   "cell_type": "code",
   "execution_count": 291,
   "metadata": {},
   "outputs": [],
   "source": [
    "# successfully replace opening_eco\n",
    "games = games.replace({'opening_eco' : op_eco_dict}) \n",
    "games = games.rename(columns = {'opening_eco': 'opening'})\n",
    "\n",
    "\n",
    "# round games rating\n",
    "games['white_rating'] = games['white_rating'].round(-2)\n",
    "games['black_rating'] = games['black_rating'].round(-2)\n",
    "\n",
    "# get rating diff\n",
    "games['rating diff'] = abs(games['white_rating'] - games['black_rating'])\n",
    "\n",
    "\n",
    "# split by winner color now\n",
    "black_win = games[games['winner'] == 'black'].reset_index(drop = True)\n",
    "white_win = games[games['winner'] == 'white'].reset_index(drop = True)\n"
   ]
  },
  {
   "cell_type": "code",
   "execution_count": 292,
   "metadata": {},
   "outputs": [
    {
     "data": {
      "text/html": [
       "<div>\n",
       "<style scoped>\n",
       "    .dataframe tbody tr th:only-of-type {\n",
       "        vertical-align: middle;\n",
       "    }\n",
       "\n",
       "    .dataframe tbody tr th {\n",
       "        vertical-align: top;\n",
       "    }\n",
       "\n",
       "    .dataframe thead th {\n",
       "        text-align: right;\n",
       "    }\n",
       "</style>\n",
       "<table border=\"1\" class=\"dataframe\">\n",
       "  <thead>\n",
       "    <tr style=\"text-align: right;\">\n",
       "      <th></th>\n",
       "      <th>winner</th>\n",
       "      <th>white_rating</th>\n",
       "      <th>black_rating</th>\n",
       "      <th>opening</th>\n",
       "      <th>rating diff</th>\n",
       "    </tr>\n",
       "  </thead>\n",
       "  <tbody>\n",
       "    <tr>\n",
       "      <th>0</th>\n",
       "      <td>white</td>\n",
       "      <td>1500</td>\n",
       "      <td>1200</td>\n",
       "      <td>Queen's Gambit Declined Slav defence</td>\n",
       "      <td>300</td>\n",
       "    </tr>\n",
       "    <tr>\n",
       "      <th>1</th>\n",
       "      <td>black</td>\n",
       "      <td>1300</td>\n",
       "      <td>1300</td>\n",
       "      <td>King's pawn opening</td>\n",
       "      <td>0</td>\n",
       "    </tr>\n",
       "    <tr>\n",
       "      <th>2</th>\n",
       "      <td>white</td>\n",
       "      <td>1500</td>\n",
       "      <td>1500</td>\n",
       "      <td>King's pawn game</td>\n",
       "      <td>0</td>\n",
       "    </tr>\n",
       "    <tr>\n",
       "      <th>3</th>\n",
       "      <td>white</td>\n",
       "      <td>1400</td>\n",
       "      <td>1500</td>\n",
       "      <td>Queen's pawn game</td>\n",
       "      <td>100</td>\n",
       "    </tr>\n",
       "    <tr>\n",
       "      <th>4</th>\n",
       "      <td>white</td>\n",
       "      <td>1500</td>\n",
       "      <td>1500</td>\n",
       "      <td>Philidor's defence</td>\n",
       "      <td>0</td>\n",
       "    </tr>\n",
       "  </tbody>\n",
       "</table>\n",
       "</div>"
      ],
      "text/plain": [
       "  winner  white_rating  black_rating                               opening  \\\n",
       "0  white          1500          1200  Queen's Gambit Declined Slav defence   \n",
       "1  black          1300          1300                   King's pawn opening   \n",
       "2  white          1500          1500                      King's pawn game   \n",
       "3  white          1400          1500                     Queen's pawn game   \n",
       "4  white          1500          1500                    Philidor's defence   \n",
       "\n",
       "   rating diff  \n",
       "0          300  \n",
       "1            0  \n",
       "2            0  \n",
       "3          100  \n",
       "4            0  "
      ]
     },
     "execution_count": 292,
     "metadata": {},
     "output_type": "execute_result"
    }
   ],
   "source": [
    "games.head()"
   ]
  },
  {
   "cell_type": "code",
   "execution_count": 293,
   "metadata": {},
   "outputs": [
    {
     "data": {
      "text/html": [
       "<div>\n",
       "<style scoped>\n",
       "    .dataframe tbody tr th:only-of-type {\n",
       "        vertical-align: middle;\n",
       "    }\n",
       "\n",
       "    .dataframe tbody tr th {\n",
       "        vertical-align: top;\n",
       "    }\n",
       "\n",
       "    .dataframe thead th {\n",
       "        text-align: right;\n",
       "    }\n",
       "</style>\n",
       "<table border=\"1\" class=\"dataframe\">\n",
       "  <thead>\n",
       "    <tr style=\"text-align: right;\">\n",
       "      <th></th>\n",
       "      <th>winner</th>\n",
       "      <th>white_rating</th>\n",
       "      <th>black_rating</th>\n",
       "      <th>opening</th>\n",
       "      <th>rating diff</th>\n",
       "    </tr>\n",
       "  </thead>\n",
       "  <tbody>\n",
       "    <tr>\n",
       "      <th>0</th>\n",
       "      <td>black</td>\n",
       "      <td>1300</td>\n",
       "      <td>1300</td>\n",
       "      <td>King's pawn opening</td>\n",
       "      <td>0</td>\n",
       "    </tr>\n",
       "    <tr>\n",
       "      <th>1</th>\n",
       "      <td>black</td>\n",
       "      <td>1400</td>\n",
       "      <td>2100</td>\n",
       "      <td>King's pawn opening</td>\n",
       "      <td>700</td>\n",
       "    </tr>\n",
       "    <tr>\n",
       "      <th>2</th>\n",
       "      <td>black</td>\n",
       "      <td>1400</td>\n",
       "      <td>1400</td>\n",
       "      <td>King's pawn game</td>\n",
       "      <td>0</td>\n",
       "    </tr>\n",
       "    <tr>\n",
       "      <th>3</th>\n",
       "      <td>black</td>\n",
       "      <td>1400</td>\n",
       "      <td>1900</td>\n",
       "      <td>French defence</td>\n",
       "      <td>500</td>\n",
       "    </tr>\n",
       "    <tr>\n",
       "      <th>4</th>\n",
       "      <td>black</td>\n",
       "      <td>1400</td>\n",
       "      <td>1900</td>\n",
       "      <td>French defence</td>\n",
       "      <td>500</td>\n",
       "    </tr>\n",
       "  </tbody>\n",
       "</table>\n",
       "</div>"
      ],
      "text/plain": [
       "  winner  white_rating  black_rating              opening  rating diff\n",
       "0  black          1300          1300  King's pawn opening            0\n",
       "1  black          1400          2100  King's pawn opening          700\n",
       "2  black          1400          1400     King's pawn game            0\n",
       "3  black          1400          1900       French defence          500\n",
       "4  black          1400          1900       French defence          500"
      ]
     },
     "execution_count": 293,
     "metadata": {},
     "output_type": "execute_result"
    }
   ],
   "source": [
    "black_win.head()"
   ]
  },
  {
   "cell_type": "code",
   "execution_count": 294,
   "metadata": {},
   "outputs": [
    {
     "data": {
      "text/html": [
       "<div>\n",
       "<style scoped>\n",
       "    .dataframe tbody tr th:only-of-type {\n",
       "        vertical-align: middle;\n",
       "    }\n",
       "\n",
       "    .dataframe tbody tr th {\n",
       "        vertical-align: top;\n",
       "    }\n",
       "\n",
       "    .dataframe thead th {\n",
       "        text-align: right;\n",
       "    }\n",
       "</style>\n",
       "<table border=\"1\" class=\"dataframe\">\n",
       "  <thead>\n",
       "    <tr style=\"text-align: right;\">\n",
       "      <th></th>\n",
       "      <th>winner</th>\n",
       "      <th>white_rating</th>\n",
       "      <th>black_rating</th>\n",
       "      <th>opening</th>\n",
       "      <th>rating diff</th>\n",
       "    </tr>\n",
       "  </thead>\n",
       "  <tbody>\n",
       "    <tr>\n",
       "      <th>0</th>\n",
       "      <td>white</td>\n",
       "      <td>1500</td>\n",
       "      <td>1200</td>\n",
       "      <td>Queen's Gambit Declined Slav defence</td>\n",
       "      <td>300</td>\n",
       "    </tr>\n",
       "    <tr>\n",
       "      <th>1</th>\n",
       "      <td>white</td>\n",
       "      <td>1500</td>\n",
       "      <td>1500</td>\n",
       "      <td>King's pawn game</td>\n",
       "      <td>0</td>\n",
       "    </tr>\n",
       "    <tr>\n",
       "      <th>2</th>\n",
       "      <td>white</td>\n",
       "      <td>1400</td>\n",
       "      <td>1500</td>\n",
       "      <td>Queen's pawn game</td>\n",
       "      <td>100</td>\n",
       "    </tr>\n",
       "    <tr>\n",
       "      <th>3</th>\n",
       "      <td>white</td>\n",
       "      <td>1500</td>\n",
       "      <td>1500</td>\n",
       "      <td>Philidor's defence</td>\n",
       "      <td>0</td>\n",
       "    </tr>\n",
       "    <tr>\n",
       "      <th>4</th>\n",
       "      <td>white</td>\n",
       "      <td>1500</td>\n",
       "      <td>1400</td>\n",
       "      <td>Queen's pawn game</td>\n",
       "      <td>100</td>\n",
       "    </tr>\n",
       "  </tbody>\n",
       "</table>\n",
       "</div>"
      ],
      "text/plain": [
       "  winner  white_rating  black_rating                               opening  \\\n",
       "0  white          1500          1200  Queen's Gambit Declined Slav defence   \n",
       "1  white          1500          1500                      King's pawn game   \n",
       "2  white          1400          1500                     Queen's pawn game   \n",
       "3  white          1500          1500                    Philidor's defence   \n",
       "4  white          1500          1400                     Queen's pawn game   \n",
       "\n",
       "   rating diff  \n",
       "0          300  \n",
       "1            0  \n",
       "2          100  \n",
       "3            0  \n",
       "4          100  "
      ]
     },
     "execution_count": 294,
     "metadata": {},
     "output_type": "execute_result"
    }
   ],
   "source": [
    "white_win.head()"
   ]
  },
  {
   "cell_type": "code",
   "execution_count": 295,
   "metadata": {},
   "outputs": [
    {
     "name": "stdout",
     "output_type": "stream",
     "text": [
      "(9107, 5)\n",
      "(10001, 5)\n"
     ]
    }
   ],
   "source": [
    "# get a gist of what our dataset count looks like\n",
    "print(black_win.shape)\n",
    "print(white_win.shape)"
   ]
  },
  {
   "cell_type": "code",
   "execution_count": 296,
   "metadata": {},
   "outputs": [
    {
     "data": {
      "text/plain": [
       "<AxesSubplot:xlabel='opening', ylabel='count'>"
      ]
     },
     "execution_count": 296,
     "metadata": {},
     "output_type": "execute_result"
    },
    {
     "data": {
      "image/png": "[encoded data removed]",
      "text/plain": [
       "<Figure size 1080x576 with 1 Axes>"
      ]
     },
     "metadata": {
      "needs_background": "light"
     },
     "output_type": "display_data"
    }
   ],
   "source": [
    "plt.figure(figsize = (15,8))\n",
    "plt.xticks(rotation=90)\n",
    "sns.countplot(x = 'opening', data=games)"
   ]
  },
  {
   "cell_type": "code",
   "execution_count": 63,
   "metadata": {},
   "outputs": [
    {
     "data": {
      "text/plain": [
       "Sicilian defence                                           1197\n",
       "Queen's pawn game                                           762\n",
       "French defence                                              737\n",
       "King's pawn game                                            734\n",
       "Ruy Lopez (Spanish opening)                                 451\n",
       "Polish (Sokolsky) opening                                   398\n",
       "Philidor's defence                                          396\n",
       "Queen's pawn                                                383\n",
       "English opening                                             376\n",
       "King's pawn opening                                         365\n",
       "Scandinavian (centre counter) defence                       358\n",
       "Caro-Kann defence                                           276\n",
       "Reti opening                                                268\n",
       "King's knight opening                                       266\n",
       "Two knights defence                                         251\n",
       "Pirc defence                                                196\n",
       "Queen's gambit declined                                     196\n",
       "Petrov's defence                                            184\n",
       "Bishop's opening                                            153\n",
       "Three knights game                                          149\n",
       "Scotch game                                                 143\n",
       "Queen's gambit accepted                                     139\n",
       "King's gambit                                               138\n",
       "Centre game                                                 132\n",
       "Queen's Gambit                                              107\n",
       "Queen's Gambit Declined Slav defence                        105\n",
       "Alekhine's defence                                          103\n",
       "King's Indian defence                                       102\n",
       "Robatsch (modern) defence                                    81\n",
       "Vienna game                                                  80\n",
       "Nimzovich-Larsen attack                                      76\n",
       "Nimzo-Indian defence                                         74\n",
       "Four knights, Scotch variation                               74\n",
       "Bird's opening                                               62\n",
       "Dutch                                                        62\n",
       "Giuoco Piano                                                 53\n",
       "Queen's Gambit Declined, Chigorin defence                    44\n",
       "Old Benoni defence                                           42\n",
       "Queen's Gambit Declined                                      39\n",
       "Queen's Gambit Declined semi-Slav                            38\n",
       "Gruenfeld defence                                            34\n",
       "King's Indian, East Indian defence                           28\n",
       "Richter-Veresov attack                                       28\n",
       "Queen's Indian defence                                       25\n",
       "Evans gambit                                                 16\n",
       "Old Indian defence                                           14\n",
       "Benoni defence                                               11\n",
       "Modern defence, Averbakh system                              10\n",
       "Benko gambit                                                 10\n",
       "Budapest defence                                              8\n",
       "Torre attack (Tartakower variation)                           6\n",
       "Neo-Gruenfeld defence                                         6\n",
       "Queen's Gambit Declined Slav, Czech defence                   5\n",
       "Catalan, closed                                               5\n",
       "Bogo-Indian defence                                           4\n",
       "Queen's Gambit Declined Slav accepted, Alapin variation       1\n",
       "Name: opening, dtype: int64"
      ]
     },
     "execution_count": 63,
     "metadata": {},
     "output_type": "execute_result"
    }
   ],
   "source": [
    "white_win['opening'].value_counts()"
   ]
  },
  {
   "cell_type": "code",
   "execution_count": 68,
   "metadata": {},
   "outputs": [
    {
     "data": {
      "text/plain": [
       "Sicilian defence                               1290\n",
       "Queen's pawn game                               818\n",
       "King's pawn game                                797\n",
       "French defence                                  679\n",
       "Polish (Sokolsky) opening                       570\n",
       "Ruy Lopez (Spanish opening)                     358\n",
       "Scandinavian (centre counter) defence           332\n",
       "Queen's pawn                                    291\n",
       "English opening                                 272\n",
       "Philidor's defence                              267\n",
       "Caro-Kann defence                               251\n",
       "King's pawn opening                             218\n",
       "Two knights defence                             201\n",
       "Reti opening                                    196\n",
       "King's knight opening                           167\n",
       "Queen's gambit declined                         155\n",
       "Pirc defence                                    148\n",
       "Petrov's defence                                145\n",
       "Scotch game                                     128\n",
       "Centre game                                     123\n",
       "Three knights game                              107\n",
       "Queen's Gambit Declined Slav defence            107\n",
       "Queen's gambit accepted                         105\n",
       "King's Indian defence                           104\n",
       "Bishop's opening                                101\n",
       "King's gambit                                    90\n",
       "Robatsch (modern) defence                        88\n",
       "Bird's opening                                   83\n",
       "Nimzovich-Larsen attack                          80\n",
       "Alekhine's defence                               79\n",
       "Nimzo-Indian defence                             72\n",
       "Vienna game                                      69\n",
       "Giuoco Piano                                     65\n",
       "Four knights, Scotch variation                   63\n",
       "Dutch                                            58\n",
       "Queen's Gambit                                   58\n",
       "Richter-Veresov attack                           56\n",
       "Queen's Gambit Declined                          36\n",
       "Old Benoni defence                               35\n",
       "Queen's Gambit Declined semi-Slav                33\n",
       "King's Indian, East Indian defence               32\n",
       "Queen's Gambit Declined, Chigorin defence        30\n",
       "Gruenfeld defence                                25\n",
       "Budapest defence                                 25\n",
       "Queen's Indian defence                           21\n",
       "Benoni defence                                   16\n",
       "Evans gambit                                     15\n",
       "Benko gambit                                     10\n",
       "Modern defence, Averbakh system                  10\n",
       "Torre attack (Tartakower variation)               9\n",
       "Old Indian defence                                7\n",
       "Bogo-Indian defence                               5\n",
       "Queen's Gambit Declined Slav, Czech defence       4\n",
       "Neo-Gruenfeld defence                             2\n",
       "Catalan, closed                                   1\n",
       "Name: opening, dtype: int64"
      ]
     },
     "execution_count": 68,
     "metadata": {},
     "output_type": "execute_result"
    }
   ],
   "source": [
    "black_win['opening'].value_counts()"
   ]
  },
  {
   "cell_type": "code",
   "execution_count": 66,
   "metadata": {},
   "outputs": [
    {
     "data": {
      "text/plain": [
       "Sicilian defence                                           2617\n",
       "Queen's pawn game                                          1661\n",
       "King's pawn game                                           1588\n",
       "French defence                                             1491\n",
       "Polish (Sokolsky) opening                                  1007\n",
       "Ruy Lopez (Spanish opening)                                 858\n",
       "Scandinavian (centre counter) defence                       716\n",
       "Queen's pawn                                                693\n",
       "Philidor's defence                                          691\n",
       "English opening                                             676\n",
       "King's pawn opening                                         611\n",
       "Caro-Kann defence                                           559\n",
       "Reti opening                                                515\n",
       "Two knights defence                                         472\n",
       "King's knight opening                                       446\n",
       "Pirc defence                                                367\n",
       "Queen's gambit declined                                     364\n",
       "Petrov's defence                                            346\n",
       "Scotch game                                                 284\n",
       "Three knights game                                          267\n",
       "Bishop's opening                                            267\n",
       "Centre game                                                 258\n",
       "Queen's gambit accepted                                     253\n",
       "King's gambit                                               237\n",
       "Queen's Gambit Declined Slav defence                        230\n",
       "King's Indian defence                                       220\n",
       "Alekhine's defence                                          192\n",
       "Robatsch (modern) defence                                   176\n",
       "Queen's Gambit                                              168\n",
       "Nimzovich-Larsen attack                                     164\n",
       "Bird's opening                                              160\n",
       "Nimzo-Indian defence                                        157\n",
       "Vienna game                                                 154\n",
       "Four knights, Scotch variation                              143\n",
       "Dutch                                                       126\n",
       "Giuoco Piano                                                125\n",
       "Richter-Veresov attack                                       89\n",
       "Old Benoni defence                                           85\n",
       "Queen's Gambit Declined                                      82\n",
       "Queen's Gambit Declined semi-Slav                            81\n",
       "Queen's Gambit Declined, Chigorin defence                    78\n",
       "King's Indian, East Indian defence                           64\n",
       "Gruenfeld defence                                            61\n",
       "Queen's Indian defence                                       50\n",
       "Budapest defence                                             34\n",
       "Evans gambit                                                 31\n",
       "Benoni defence                                               28\n",
       "Old Indian defence                                           23\n",
       "Benko gambit                                                 22\n",
       "Modern defence, Averbakh system                              21\n",
       "Torre attack (Tartakower variation)                          15\n",
       "Bogo-Indian defence                                          10\n",
       "Neo-Gruenfeld defence                                         9\n",
       "Queen's Gambit Declined Slav, Czech defence                   9\n",
       "Catalan, closed                                               6\n",
       "Queen's Gambit Declined Slav accepted, Alapin variation       1\n",
       "Name: opening, dtype: int64"
      ]
     },
     "execution_count": 66,
     "metadata": {},
     "output_type": "execute_result"
    }
   ],
   "source": [
    "games['opening'].value_counts()"
   ]
  },
  {
   "cell_type": "markdown",
   "metadata": {},
   "source": [
    "A question we want to ask first is about to Sicilian defense :\n",
    "We see that the Sicilian Defense is the most played opening for both sides, which isn't surprising because \n",
    "it's one of the more popular lines against the popular e4. pawn. However this is weird, because even though \n",
    "the Sicilian is often used, it is a pretty hard line to play, so is it worth playing if you're below a certain elo? To investigate this, let's check the trend of this opening\n"
   ]
  },
  {
   "cell_type": "code",
   "execution_count": 117,
   "metadata": {},
   "outputs": [],
   "source": [
    "# get all games that opens with sicilian defence\n",
    "white_sicilian_games = white_win[white_win['opening'] == 'Sicilian defence']\n",
    "black_sicilian_games = black_win[black_win['opening'] == 'Sicilian defence']\n",
    "sicilian_games = games[games['opening'] == 'Sicilian defence']"
   ]
  },
  {
   "cell_type": "code",
   "execution_count": 134,
   "metadata": {},
   "outputs": [
    {
     "data": {
      "text/plain": [
       "[Text(0, 0.5, 'Percent')]"
      ]
     },
     "execution_count": 134,
     "metadata": {},
     "output_type": "execute_result"
    },
    {
     "data": {
      "image/png": "[encoded data removed]",
      "text/plain": [
       "<Figure size 1080x576 with 1 Axes>"
      ]
     },
     "metadata": {
      "needs_background": "light"
     },
     "output_type": "display_data"
    }
   ],
   "source": [
    "plt.figure(figsize = (15,8))\n",
    "plt.xticks(rotation=90)\n",
    "ax = sns.barplot(x=\"black_rating\", y=\"black_rating\", data=black_sicilian_games, estimator=lambda x: len(x) / len(black_sicilian_games) * 100, color = 'black')\n",
    "ax.set(ylabel=\"Percent\")"
   ]
  },
  {
   "cell_type": "code",
   "execution_count": 136,
   "metadata": {},
   "outputs": [
    {
     "data": {
      "text/plain": [
       "[Text(0, 0.5, 'Percent')]"
      ]
     },
     "execution_count": 136,
     "metadata": {},
     "output_type": "execute_result"
    },
    {
     "data": {
      "image/png": "[encoded data removed]",
      "text/plain": [
       "<Figure size 1080x576 with 1 Axes>"
      ]
     },
     "metadata": {
      "needs_background": "light"
     },
     "output_type": "display_data"
    }
   ],
   "source": [
    "plt.figure(figsize = (15,8))\n",
    "plt.xticks(rotation=90)\n",
    "ax = sns.barplot(x=\"white_rating\", y=\"white_rating\", data=white_sicilian_games, estimator=lambda x: len(x) / len(white_sicilian_games) * 100, color = 'silver')\n",
    "ax.set(ylabel=\"Percent\")"
   ]
  },
  {
   "cell_type": "markdown",
   "metadata": {},
   "source": [
    "From these two countplots, we can see that there is definitely a trend in the usage of the 'sicilian defense' as the majority of players are within the 1500~1800 range, but it is erroneous to think that is is good to use this opening in that range, because this count plot only shows the usage of this opening, which essentially shows us a bell curve of the elo system, as there is going to be less samples in higher or really lower elo, meaning less games with a particular opened played. Basically we just showed that this is just a popular opening, which we already know from the amount of count data. What we want to see is the win percentage at every elo."
   ]
  },
  {
   "cell_type": "code",
   "execution_count": 145,
   "metadata": {},
   "outputs": [
    {
     "data": {
      "text/plain": [
       "[Text(0, 0.5, 'Percent')]"
      ]
     },
     "execution_count": 148,
     "metadata": {},
     "output_type": "execute_result"
    },
    {
     "data": {
      "image/png": "[encoded data removed]",
      "text/plain": [
       "<Figure size 1080x576 with 1 Axes>"
      ]
     },
     "metadata": {
      "needs_background": "light"
     },
     "output_type": "display_data"
    }
   ],
   "source": [
    "plt.figure(figsize = (15,8))\n",
    "plt.xticks(rotation=90)\n",
    "\n",
    "ax = sns.barplot(x=\"black_rating\", y=\"black_rating\", data=black_sicilian_games, estimator=lambda x: len(x), color = 'black')\n",
    "ax.set(ylabel=\"Percent\")"
   ]
  },
  {
   "cell_type": "code",
   "execution_count": 313,
   "metadata": {},
   "outputs": [
    {
     "data": {
      "text/plain": [
       "1000    0.104478\n",
       "1100    0.177419\n",
       "1200    0.177143\n",
       "1300    0.226619\n",
       "1400    0.189427\n",
       "1500    0.241627\n",
       "1600    0.243506\n",
       "1700    0.199725\n",
       "1800    0.253782\n",
       "1900    0.233716\n",
       "2000    0.185286\n",
       "2100    0.270142\n",
       "2200    0.326316\n",
       "2300    0.384615\n",
       "2400    0.289474\n",
       "2500    0.285714\n",
       "2600    0.333333\n",
       "dtype: float64"
      ]
     },
     "execution_count": 313,
     "metadata": {},
     "output_type": "execute_result"
    }
   ],
   "source": [
    "# get total sicilian games\n",
    "total = sicilian_games['white_rating'].value_counts() + sicilian_games['black_rating'].value_counts()\n",
    "\n",
    "white_sicilian_per = white_sicilian_games['white_rating'].value_counts()/ total\n",
    "black_sicilian_per = black_sicilian_games['black_rating'].value_counts()/ total\n",
    "\n",
    "\n",
    "white_sicilian_per = white_sicilian_per.dropna()\n",
    "black_sicilian_per = black_sicilian_per.dropna()\n",
    "\n",
    "# drop 800 because there white doesn't contain 800\n",
    "black_sicilian_per = black_sicilian_per.drop(800)\n",
    "\n",
    "white_sicilian_per"
   ]
  },
  {
   "cell_type": "code",
   "execution_count": 281,
   "metadata": {},
   "outputs": [
    {
     "data": {
      "text/plain": [
       "[<matplotlib.lines.Line2D at 0x7f4276782340>]"
      ]
     },
     "execution_count": 281,
     "metadata": {},
     "output_type": "execute_result"
    },
    {
     "data": {
      "image/png": "[encoded data removed]",
      "text/plain": [
       "<Figure size 1080x576 with 1 Axes>"
      ]
     },
     "metadata": {
      "needs_background": "light"
     },
     "output_type": "display_data"
    }
   ],
   "source": [
    "# get win percentage of white using sicilian at every elo\n",
    "plt.figure(figsize = (15,8))\n",
    "plt.xlabel(\"Elo\")\n",
    "plt.ylabel(\"Win Percentage\")\n",
    "plt.plot(white_sicilian_per.index, white_sicilian_per.values * 100)"
   ]
  },
  {
   "cell_type": "code",
   "execution_count": 284,
   "metadata": {},
   "outputs": [
    {
     "data": {
      "text/plain": [
       "[<matplotlib.lines.Line2D at 0x7f42750dcca0>]"
      ]
     },
     "execution_count": 284,
     "metadata": {},
     "output_type": "execute_result"
    },
    {
     "data": {
      "image/png": "[encoded data removed]",
      "text/plain": [
       "<Figure size 1080x576 with 1 Axes>"
      ]
     },
     "metadata": {
      "needs_background": "light"
     },
     "output_type": "display_data"
    }
   ],
   "source": [
    "# get win percentage of black using sicilian at every elo\n",
    "plt.figure(figsize = (15,8))\n",
    "plt.xlabel(\"Elo\")\n",
    "plt.ylabel(\"Win Percentage\")\n",
    "plt.plot(black_sicilian_per.index, black_sicilian_per.values* 100)"
   ]
  },
  {
   "cell_type": "markdown",
   "metadata": {},
   "source": [
    "From our given analysis, it seems that win rate for the sicilian only increases as your elo increases, which begs the question, does an opening really affect win rate and it also helps answer part of our question, because the sicilian defence is a hard line to play, but how about a very easy opening that beginners are recommended to play like the Spanish Opening or Ruy Lopez\n"
   ]
  },
  {
   "cell_type": "code",
   "execution_count": 297,
   "metadata": {},
   "outputs": [],
   "source": [
    "# get all games that opens with sicilian defence\n",
    "white_ruy_games = white_win[white_win['opening'] == 'Ruy Lopez (Spanish opening)']\n",
    "black_ruy_games = black_win[black_win['opening'] == 'Ruy Lopez (Spanish opening)']\n",
    "ruy_games = games[games['opening'] == 'Ruy Lopez (Spanish opening)']"
   ]
  },
  {
   "cell_type": "code",
   "execution_count": 299,
   "metadata": {},
   "outputs": [
    {
     "data": {
      "text/html": [
       "<div>\n",
       "<style scoped>\n",
       "    .dataframe tbody tr th:only-of-type {\n",
       "        vertical-align: middle;\n",
       "    }\n",
       "\n",
       "    .dataframe tbody tr th {\n",
       "        vertical-align: top;\n",
       "    }\n",
       "\n",
       "    .dataframe thead th {\n",
       "        text-align: right;\n",
       "    }\n",
       "</style>\n",
       "<table border=\"1\" class=\"dataframe\">\n",
       "  <thead>\n",
       "    <tr style=\"text-align: right;\">\n",
       "      <th></th>\n",
       "      <th>winner</th>\n",
       "      <th>white_rating</th>\n",
       "      <th>black_rating</th>\n",
       "      <th>opening</th>\n",
       "      <th>rating diff</th>\n",
       "    </tr>\n",
       "  </thead>\n",
       "  <tbody>\n",
       "    <tr>\n",
       "      <th>85</th>\n",
       "      <td>white</td>\n",
       "      <td>1900</td>\n",
       "      <td>1800</td>\n",
       "      <td>Ruy Lopez (Spanish opening)</td>\n",
       "      <td>100</td>\n",
       "    </tr>\n",
       "    <tr>\n",
       "      <th>90</th>\n",
       "      <td>white</td>\n",
       "      <td>1800</td>\n",
       "      <td>1900</td>\n",
       "      <td>Ruy Lopez (Spanish opening)</td>\n",
       "      <td>100</td>\n",
       "    </tr>\n",
       "    <tr>\n",
       "      <th>95</th>\n",
       "      <td>white</td>\n",
       "      <td>1900</td>\n",
       "      <td>1800</td>\n",
       "      <td>Ruy Lopez (Spanish opening)</td>\n",
       "      <td>100</td>\n",
       "    </tr>\n",
       "    <tr>\n",
       "      <th>96</th>\n",
       "      <td>white</td>\n",
       "      <td>1800</td>\n",
       "      <td>1800</td>\n",
       "      <td>Ruy Lopez (Spanish opening)</td>\n",
       "      <td>0</td>\n",
       "    </tr>\n",
       "    <tr>\n",
       "      <th>101</th>\n",
       "      <td>white</td>\n",
       "      <td>1500</td>\n",
       "      <td>1300</td>\n",
       "      <td>Ruy Lopez (Spanish opening)</td>\n",
       "      <td>200</td>\n",
       "    </tr>\n",
       "  </tbody>\n",
       "</table>\n",
       "</div>"
      ],
      "text/plain": [
       "    winner  white_rating  black_rating                      opening  \\\n",
       "85   white          1900          1800  Ruy Lopez (Spanish opening)   \n",
       "90   white          1800          1900  Ruy Lopez (Spanish opening)   \n",
       "95   white          1900          1800  Ruy Lopez (Spanish opening)   \n",
       "96   white          1800          1800  Ruy Lopez (Spanish opening)   \n",
       "101  white          1500          1300  Ruy Lopez (Spanish opening)   \n",
       "\n",
       "     rating diff  \n",
       "85           100  \n",
       "90           100  \n",
       "95           100  \n",
       "96             0  \n",
       "101          200  "
      ]
     },
     "execution_count": 299,
     "metadata": {},
     "output_type": "execute_result"
    }
   ],
   "source": [
    "white_ruy_games.head()"
   ]
  },
  {
   "cell_type": "code",
   "execution_count": 300,
   "metadata": {},
   "outputs": [
    {
     "data": {
      "text/html": [
       "<div>\n",
       "<style scoped>\n",
       "    .dataframe tbody tr th:only-of-type {\n",
       "        vertical-align: middle;\n",
       "    }\n",
       "\n",
       "    .dataframe tbody tr th {\n",
       "        vertical-align: top;\n",
       "    }\n",
       "\n",
       "    .dataframe thead th {\n",
       "        text-align: right;\n",
       "    }\n",
       "</style>\n",
       "<table border=\"1\" class=\"dataframe\">\n",
       "  <thead>\n",
       "    <tr style=\"text-align: right;\">\n",
       "      <th></th>\n",
       "      <th>winner</th>\n",
       "      <th>white_rating</th>\n",
       "      <th>black_rating</th>\n",
       "      <th>opening</th>\n",
       "      <th>rating diff</th>\n",
       "    </tr>\n",
       "  </thead>\n",
       "  <tbody>\n",
       "    <tr>\n",
       "      <th>48</th>\n",
       "      <td>black</td>\n",
       "      <td>1800</td>\n",
       "      <td>1800</td>\n",
       "      <td>Ruy Lopez (Spanish opening)</td>\n",
       "      <td>0</td>\n",
       "    </tr>\n",
       "    <tr>\n",
       "      <th>50</th>\n",
       "      <td>black</td>\n",
       "      <td>1900</td>\n",
       "      <td>1800</td>\n",
       "      <td>Ruy Lopez (Spanish opening)</td>\n",
       "      <td>100</td>\n",
       "    </tr>\n",
       "    <tr>\n",
       "      <th>78</th>\n",
       "      <td>black</td>\n",
       "      <td>1900</td>\n",
       "      <td>1900</td>\n",
       "      <td>Ruy Lopez (Spanish opening)</td>\n",
       "      <td>0</td>\n",
       "    </tr>\n",
       "    <tr>\n",
       "      <th>93</th>\n",
       "      <td>black</td>\n",
       "      <td>1300</td>\n",
       "      <td>2100</td>\n",
       "      <td>Ruy Lopez (Spanish opening)</td>\n",
       "      <td>800</td>\n",
       "    </tr>\n",
       "    <tr>\n",
       "      <th>118</th>\n",
       "      <td>black</td>\n",
       "      <td>1600</td>\n",
       "      <td>1500</td>\n",
       "      <td>Ruy Lopez (Spanish opening)</td>\n",
       "      <td>100</td>\n",
       "    </tr>\n",
       "  </tbody>\n",
       "</table>\n",
       "</div>"
      ],
      "text/plain": [
       "    winner  white_rating  black_rating                      opening  \\\n",
       "48   black          1800          1800  Ruy Lopez (Spanish opening)   \n",
       "50   black          1900          1800  Ruy Lopez (Spanish opening)   \n",
       "78   black          1900          1900  Ruy Lopez (Spanish opening)   \n",
       "93   black          1300          2100  Ruy Lopez (Spanish opening)   \n",
       "118  black          1600          1500  Ruy Lopez (Spanish opening)   \n",
       "\n",
       "     rating diff  \n",
       "48             0  \n",
       "50           100  \n",
       "78             0  \n",
       "93           800  \n",
       "118          100  "
      ]
     },
     "execution_count": 300,
     "metadata": {},
     "output_type": "execute_result"
    }
   ],
   "source": [
    "black_ruy_games.head()"
   ]
  },
  {
   "cell_type": "code",
   "execution_count": 301,
   "metadata": {},
   "outputs": [
    {
     "data": {
      "text/html": [
       "<div>\n",
       "<style scoped>\n",
       "    .dataframe tbody tr th:only-of-type {\n",
       "        vertical-align: middle;\n",
       "    }\n",
       "\n",
       "    .dataframe tbody tr th {\n",
       "        vertical-align: top;\n",
       "    }\n",
       "\n",
       "    .dataframe thead th {\n",
       "        text-align: right;\n",
       "    }\n",
       "</style>\n",
       "<table border=\"1\" class=\"dataframe\">\n",
       "  <thead>\n",
       "    <tr style=\"text-align: right;\">\n",
       "      <th></th>\n",
       "      <th>winner</th>\n",
       "      <th>white_rating</th>\n",
       "      <th>black_rating</th>\n",
       "      <th>opening</th>\n",
       "      <th>rating diff</th>\n",
       "    </tr>\n",
       "  </thead>\n",
       "  <tbody>\n",
       "    <tr>\n",
       "      <th>114</th>\n",
       "      <td>black</td>\n",
       "      <td>1800</td>\n",
       "      <td>1800</td>\n",
       "      <td>Ruy Lopez (Spanish opening)</td>\n",
       "      <td>0</td>\n",
       "    </tr>\n",
       "    <tr>\n",
       "      <th>117</th>\n",
       "      <td>black</td>\n",
       "      <td>1900</td>\n",
       "      <td>1800</td>\n",
       "      <td>Ruy Lopez (Spanish opening)</td>\n",
       "      <td>100</td>\n",
       "    </tr>\n",
       "    <tr>\n",
       "      <th>160</th>\n",
       "      <td>white</td>\n",
       "      <td>1900</td>\n",
       "      <td>1800</td>\n",
       "      <td>Ruy Lopez (Spanish opening)</td>\n",
       "      <td>100</td>\n",
       "    </tr>\n",
       "    <tr>\n",
       "      <th>166</th>\n",
       "      <td>white</td>\n",
       "      <td>1800</td>\n",
       "      <td>1900</td>\n",
       "      <td>Ruy Lopez (Spanish opening)</td>\n",
       "      <td>100</td>\n",
       "    </tr>\n",
       "    <tr>\n",
       "      <th>178</th>\n",
       "      <td>black</td>\n",
       "      <td>1900</td>\n",
       "      <td>1900</td>\n",
       "      <td>Ruy Lopez (Spanish opening)</td>\n",
       "      <td>0</td>\n",
       "    </tr>\n",
       "  </tbody>\n",
       "</table>\n",
       "</div>"
      ],
      "text/plain": [
       "    winner  white_rating  black_rating                      opening  \\\n",
       "114  black          1800          1800  Ruy Lopez (Spanish opening)   \n",
       "117  black          1900          1800  Ruy Lopez (Spanish opening)   \n",
       "160  white          1900          1800  Ruy Lopez (Spanish opening)   \n",
       "166  white          1800          1900  Ruy Lopez (Spanish opening)   \n",
       "178  black          1900          1900  Ruy Lopez (Spanish opening)   \n",
       "\n",
       "     rating diff  \n",
       "114            0  \n",
       "117          100  \n",
       "160          100  \n",
       "166          100  \n",
       "178            0  "
      ]
     },
     "execution_count": 301,
     "metadata": {},
     "output_type": "execute_result"
    }
   ],
   "source": [
    "ruy_games.head()"
   ]
  },
  {
   "cell_type": "code",
   "execution_count": 303,
   "metadata": {},
   "outputs": [
    {
     "data": {
      "text/plain": [
       "[Text(0, 0.5, 'Percent')]"
      ]
     },
     "execution_count": 303,
     "metadata": {},
     "output_type": "execute_result"
    },
    {
     "data": {
      "image/png": "[encoded data removed]",
      "text/plain": [
       "<Figure size 1080x576 with 1 Axes>"
      ]
     },
     "metadata": {
      "needs_background": "light"
     },
     "output_type": "display_data"
    }
   ],
   "source": [
    "plt.figure(figsize = (15,8))\n",
    "plt.xticks(rotation=90)\n",
    "ax = sns.barplot(x=\"black_rating\", y=\"black_rating\", data=black_ruy_games, estimator=lambda x: len(x) / len(black_ruy_games) * 100, color = 'black')\n",
    "ax.set(ylabel=\"Percent\")"
   ]
  },
  {
   "cell_type": "code",
   "execution_count": 304,
   "metadata": {},
   "outputs": [
    {
     "data": {
      "text/plain": [
       "[Text(0, 0.5, 'Percent')]"
      ]
     },
     "execution_count": 304,
     "metadata": {},
     "output_type": "execute_result"
    },
    {
     "data": {
      "image/png": "[encoded data removed]",
      "text/plain": [
       "<Figure size 1080x576 with 1 Axes>"
      ]
     },
     "metadata": {
      "needs_background": "light"
     },
     "output_type": "display_data"
    }
   ],
   "source": [
    "plt.figure(figsize = (15,8))\n",
    "plt.xticks(rotation=90)\n",
    "ax = sns.barplot(x=\"white_rating\", y=\"white_rating\", data=white_ruy_games, estimator=lambda x: len(x) / len(white_ruy_games) * 100, color = 'silver')\n",
    "ax.set(ylabel=\"Percent\")"
   ]
  },
  {
   "cell_type": "markdown",
   "metadata": {},
   "source": [
    "As we can see, the spanish opening is played more on the left side of the elo chart rather than the right, because it is more simple to play, but how about the win percentage?"
   ]
  },
  {
   "cell_type": "code",
   "execution_count": 310,
   "metadata": {},
   "outputs": [
    {
     "data": {
      "text/plain": [
       "1000    0.059701\n",
       "1100    0.129032\n",
       "1200    0.057143\n",
       "1300    0.100719\n",
       "1400    0.138767\n",
       "1500    0.095694\n",
       "1600    0.076299\n",
       "1700    0.073003\n",
       "1800    0.063866\n",
       "1900    0.088123\n",
       "2000    0.046322\n",
       "2100    0.113744\n",
       "2200    0.089474\n",
       "2300    0.200000\n",
       "2400    0.026316\n",
       "2500    0.285714\n",
       "dtype: float64"
      ]
     },
     "execution_count": 310,
     "metadata": {},
     "output_type": "execute_result"
    }
   ],
   "source": [
    "# get total ruy games\n",
    "total_ruy = ruy_games['white_rating'].value_counts() + ruy_games['black_rating'].value_counts()\n",
    "\n",
    "white_ruy_per = white_ruy_games['white_rating'].value_counts()/ total\n",
    "black_ruy_per = black_ruy_games['black_rating'].value_counts()/ total\n",
    "\n",
    "\n",
    "white_ruy_per = white_ruy_per.dropna()\n",
    "black_ruy_per = black_ruy_per.dropna()\n",
    "\n",
    "white_ruy_per"
   ]
  },
  {
   "cell_type": "code",
   "execution_count": 315,
   "metadata": {},
   "outputs": [
    {
     "data": {
      "text/plain": [
       "[<matplotlib.lines.Line2D at 0x7f4272bb3b50>]"
      ]
     },
     "execution_count": 315,
     "metadata": {},
     "output_type": "execute_result"
    },
    {
     "data": {
      "image/png": "[encoded data removed]",
      "text/plain": [
       "<Figure size 1080x576 with 1 Axes>"
      ]
     },
     "metadata": {
      "needs_background": "light"
     },
     "output_type": "display_data"
    }
   ],
   "source": [
    "# get win percentage of white using ruy at every elo\n",
    "plt.figure(figsize = (15,8))\n",
    "plt.xlabel(\"Elo\")\n",
    "plt.ylabel(\"Win Percentage\")\n",
    "plt.plot(white_ruy_per.index, white_ruy_per.values * 100)"
   ]
  },
  {
   "cell_type": "code",
   "execution_count": 316,
   "metadata": {},
   "outputs": [
    {
     "data": {
      "text/plain": [
       "[<matplotlib.lines.Line2D at 0x7f4272b176d0>]"
      ]
     },
     "execution_count": 316,
     "metadata": {},
     "output_type": "execute_result"
    },
    {
     "data": {
      "image/png": "[encoded data removed]",
      "text/plain": [
       "<Figure size 1080x576 with 1 Axes>"
      ]
     },
     "metadata": {
      "needs_background": "light"
     },
     "output_type": "display_data"
    }
   ],
   "source": [
    "# get win percentage of black using ruy at every elo\n",
    "plt.figure(figsize = (15,8))\n",
    "plt.xlabel(\"Elo\")\n",
    "plt.ylabel(\"Win Percentage\")\n",
    "plt.plot(black_ruy_per.index, black_ruy_per.values * 100)"
   ]
  },
  {
   "cell_type": "markdown",
   "metadata": {},
   "source": [
    "Interestingly enough, we don't get that much of a difference between the Ruy Lopez and the Sicilian, even at lower elos where both openings have a similar win rate. What is consistently shown is that as elo increases, so does win percentage which makes sense as your win rate increases as you become a better player."
   ]
  }
 ],
 "metadata": {
  "kernelspec": {
   "display_name": "Python 3 (ipykernel)",
   "language": "python",
   "name": "python3"
  },
  "language_info": {
   "codemirror_mode": {
    "name": "ipython",
    "version": 3
   },
   "file_extension": ".py",
   "mimetype": "text/x-python",
   "name": "python",
   "nbconvert_exporter": "python",
   "pygments_lexer": "ipython3",
   "version": "3.8.10"
  }
 },
 "nbformat": 4,
 "nbformat_minor": 4
}
